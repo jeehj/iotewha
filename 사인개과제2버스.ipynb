{
  "nbformat": 4,
  "nbformat_minor": 0,
  "metadata": {
    "colab": {
      "provenance": [],
      "authorship_tag": "ABX9TyPEd47KxbTsK5AZikgwZd79",
      "include_colab_link": true
    },
    "kernelspec": {
      "name": "python3",
      "display_name": "Python 3"
    },
    "language_info": {
      "name": "python"
    }
  },
  "cells": [
    {
      "cell_type": "markdown",
      "metadata": {
        "id": "view-in-github",
        "colab_type": "text"
      },
      "source": [
        "<a href=\"https://colab.research.google.com/github/jeehj/iotewha/blob/main/%EC%82%AC%EC%9D%B8%EA%B0%9C%EA%B3%BC%EC%A0%9C2%EB%B2%84%EC%8A%A4.ipynb\" target=\"_parent\"><img src=\"https://colab.research.google.com/assets/colab-badge.svg\" alt=\"Open In Colab\"/></a>"
      ]
    },
    {
      "cell_type": "code",
      "execution_count": 1,
      "metadata": {
        "id": "jnOqjSQ0GA-K",
        "colab": {
          "base_uri": "https://localhost:8080/"
        },
        "outputId": "4f65cbea-2161-41ce-95db-4c126821e6ce"
      },
      "outputs": [
        {
          "output_type": "stream",
          "name": "stdout",
          "text": [
            "<?xml version=\"1.0\" encoding=\"UTF-8\" standalone=\"yes\"?><response><comMsgHeader/><msgHeader><queryTime>2024-03-17 01:54:34.692</queryTime><resultCode>4</resultCode><resultMessage>결과가 존재하지 않습니다.</resultMessage></msgHeader></response>\n"
          ]
        }
      ],
      "source": [
        "import requests\n",
        "url='http://openapi.gbis.go.kr/ws/rest/buslocationservice?serviceKey=1234567890&routeId=218000010'\n",
        "r = requests.get(url)\n",
        "print(r.text)"
      ]
    }
  ]
}