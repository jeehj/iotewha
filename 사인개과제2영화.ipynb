{
  "nbformat": 4,
  "nbformat_minor": 0,
  "metadata": {
    "colab": {
      "provenance": [],
      "authorship_tag": "ABX9TyP8PSbwx63dwHMmtuXDkzfN",
      "include_colab_link": true
    },
    "kernelspec": {
      "name": "python3",
      "display_name": "Python 3"
    },
    "language_info": {
      "name": "python"
    }
  },
  "cells": [
    {
      "cell_type": "markdown",
      "metadata": {
        "id": "view-in-github",
        "colab_type": "text"
      },
      "source": [
        "<a href=\"https://colab.research.google.com/github/jeehj/iotewha/blob/main/%EC%82%AC%EC%9D%B8%EA%B0%9C%EA%B3%BC%EC%A0%9C2%EC%98%81%ED%99%94.ipynb\" target=\"_parent\"><img src=\"https://colab.research.google.com/assets/colab-badge.svg\" alt=\"Open In Colab\"/></a>"
      ]
    },
    {
      "cell_type": "code",
      "execution_count": 1,
      "metadata": {
        "colab": {
          "base_uri": "https://localhost:8080/"
        },
        "id": "b6losL-FMqVq",
        "outputId": "8318ad1c-e71c-4d97-e6cb-c5e3669b7102"
      },
      "outputs": [
        {
          "output_type": "stream",
          "name": "stdout",
          "text": [
            "<?xml version=\"1.0\" encoding=\"utf-8\" standalone=\"yes\"?><boxOfficeResult><boxofficeType>일별 박스오피스</boxofficeType><showRange>20240316~20240316</showRange><dailyBoxOfficeList><dailyBoxOffice><rnum>1</rnum><rank>1</rank><rankInten>0</rankInten><rankOldAndNew>OLD</rankOldAndNew><movieCd>20234675</movieCd><movieNm>파묘</movieNm><openDt>2024-02-22</openDt><salesAmt>3425103683</salesAmt><salesShare>64.4</salesShare><salesInten>1942902680</salesInten><salesChange>131.1</salesChange><salesAcc>86924477017</salesAcc><audiCnt>344880</audiCnt><audiInten>194208</audiInten><audiChange>128.9</audiChange><audiAcc>9013156</audiAcc><scrnCnt>1959</scrnCnt><showCnt>7986</showCnt></dailyBoxOffice><dailyBoxOffice><rnum>2</rnum><rank>2</rank><rankInten>0</rankInten><rankOldAndNew>OLD</rankOldAndNew><movieCd>20236295</movieCd><movieNm>듄: 파트2</movieNm><openDt>2024-02-28</openDt><salesAmt>999938785</salesAmt><salesShare>18.8</salesShare><salesInten>522595102</salesInten><salesChange>109.5</salesChange><salesAcc>17357161410</salesAcc><audiCnt>81813</audiCnt><audiInten>44589</audiInten><audiChange>119.8</audiChange><audiAcc>1512274</audiAcc><scrnCnt>925</scrnCnt><showCnt>2305</showCnt></dailyBoxOffice><dailyBoxOffice><rnum>3</rnum><rank>3</rank><rankInten>4</rankInten><rankOldAndNew>OLD</rankOldAndNew><movieCd>20236180</movieCd><movieNm>웡카</movieNm><openDt>2024-01-31</openDt><salesAmt>205211697</salesAmt><salesShare>3.9</salesShare><salesInten>171274256</salesInten><salesChange>504.7</salesChange><salesAcc>33127033898</salesAcc><audiCnt>21154</audiCnt><audiInten>17699</audiInten><audiChange>512.3</audiChange><audiAcc>3445012</audiAcc><scrnCnt>472</scrnCnt><showCnt>744</showCnt></dailyBoxOffice><dailyBoxOffice><rnum>4</rnum><rank>4</rank><rankInten>-1</rankInten><rankOldAndNew>OLD</rankOldAndNew><movieCd>20236732</movieCd><movieNm>가여운 것들</movieNm><openDt>2024-03-06</openDt><salesAmt>96761307</salesAmt><salesShare>1.8</salesShare><salesInten>41503497</salesInten><salesChange>75.1</salesChange><salesAcc>1017479728</salesAcc><audiCnt>9410</audiCnt><audiInten>4070</audiInten><audiChange>76.2</audiChange><audiAcc>102075</audiAcc><scrnCnt>323</scrnCnt><showCnt>457</showCnt></dailyBoxOffice><dailyBoxOffice><rnum>5</rnum><rank>5</rank><rankInten>14</rankInten><rankOldAndNew>OLD</rankOldAndNew><movieCd>20247437</movieCd><movieNm>브레드이발소: 셀럽 인 베이커리타운</movieNm><openDt>2024-03-01</openDt><salesAmt>78825350</salesAmt><salesShare>1.5</salesShare><salesInten>73772050</salesInten><salesChange>1459.9</salesChange><salesAcc>1364824960</salesAcc><audiCnt>9336</audiCnt><audiInten>8706</audiInten><audiChange>1381.9</audiChange><audiAcc>159089</audiAcc><scrnCnt>268</scrnCnt><showCnt>427</showCnt></dailyBoxOffice><dailyBoxOffice><rnum>6</rnum><rank>6</rank><rankInten>0</rankInten><rankOldAndNew>OLD</rankOldAndNew><movieCd>20234789</movieCd><movieNm>패스트 라이브즈</movieNm><openDt>2024-03-06</openDt><salesAmt>63620712</salesAmt><salesShare>1.2</salesShare><salesInten>24200840</salesInten><salesChange>61.4</salesChange><salesAcc>763535869</salesAcc><audiCnt>6360</audiCnt><audiInten>2352</audiInten><audiChange>58.7</audiChange><audiAcc>84253</audiAcc><scrnCnt>325</scrnCnt><showCnt>488</showCnt></dailyBoxOffice><dailyBoxOffice><rnum>7</rnum><rank>7</rank><rankInten>-2</rankInten><rankOldAndNew>OLD</rankOldAndNew><movieCd>20247782</movieCd><movieNm>랜드 오브 배드</movieNm><openDt>2024-03-13</openDt><salesAmt>54656073</salesAmt><salesShare>1.0</salesShare><salesInten>17002598</salesInten><salesChange>45.2</salesChange><salesAcc>171564896</salesAcc><audiCnt>6106</audiCnt><audiInten>1718</audiInten><audiChange>39.2</audiChange><audiAcc>20466</audiAcc><scrnCnt>394</scrnCnt><showCnt>618</showCnt></dailyBoxOffice><dailyBoxOffice><rnum>8</rnum><rank>8</rank><rankInten>16</rankInten><rankOldAndNew>OLD</rankOldAndNew><movieCd>20247593</movieCd><movieNm>용감한 돌고래 벨루와 바닷속 친구들</movieNm><openDt>2024-03-13</openDt><salesAmt>32530720</salesAmt><salesShare>0.6</salesShare><salesInten>29756220</salesInten><salesChange>1072.5</salesChange><salesAcc>42786420</salesAcc><audiCnt>4142</audiCnt><audiInten>3743</audiInten><audiChange>938.1</audiChange><audiAcc>5537</audiAcc><scrnCnt>180</scrnCnt><showCnt>221</showCnt></dailyBoxOffice><dailyBoxOffice><rnum>9</rnum><rank>9</rank><rankInten>-5</rankInten><rankOldAndNew>OLD</rankOldAndNew><movieCd>20236488</movieCd><movieNm>밥 말리: 원 러브</movieNm><openDt>2024-03-13</openDt><salesAmt>39711054</salesAmt><salesShare>0.7</salesShare><salesInten>-4091539</salesInten><salesChange>-9.3</salesChange><salesAcc>217249555</salesAcc><audiCnt>4080</audiCnt><audiInten>-672</audiInten><audiChange>-14.1</audiChange><audiAcc>23874</audiAcc><scrnCnt>501</scrnCnt><showCnt>770</showCnt></dailyBoxOffice><dailyBoxOffice><rnum>10</rnum><rank>10</rank><rankInten>0</rankInten><rankOldAndNew>OLD</rankOldAndNew><movieCd>20247074</movieCd><movieNm>건국전쟁</movieNm><openDt>2024-02-01</openDt><salesAmt>36644851</salesAmt><salesShare>0.7</salesShare><salesInten>20083544</salesInten><salesChange>121.3</salesChange><salesAcc>10768326355</salesAcc><audiCnt>3812</audiCnt><audiInten>1905</audiInten><audiChange>99.9</audiChange><audiAcc>1157952</audiAcc><scrnCnt>175</scrnCnt><showCnt>208</showCnt></dailyBoxOffice></dailyBoxOfficeList></boxOfficeResult>\n"
          ]
        }
      ],
      "source": [
        "import requests\n",
        "from bs4 import BeautifulSoup\n",
        "\n",
        "r = requests.get('https://www.kobis.or.kr/kobisopenapi/webservice/rest/boxoffice/searchDailyBoxOfficeList.xml?key=4c8d418737edcf694dc93641ece5f620&targetDt=20240316')\n",
        "print(r.text)"
      ]
    },
    {
      "cell_type": "code",
      "source": [
        "soup = BeautifulSoup(r.text, features=\"xml\")"
      ],
      "metadata": {
        "id": "_1LFmY6YP0XS"
      },
      "execution_count": 2,
      "outputs": []
    },
    {
      "cell_type": "code",
      "source": [
        "soup.find_all('movieNm')"
      ],
      "metadata": {
        "colab": {
          "base_uri": "https://localhost:8080/"
        },
        "id": "WPkKoAKSP54T",
        "outputId": "00e7d58f-30c8-4400-fb93-df8040cf8f53"
      },
      "execution_count": 3,
      "outputs": [
        {
          "output_type": "execute_result",
          "data": {
            "text/plain": [
              "[<movieNm>파묘</movieNm>,\n",
              " <movieNm>듄: 파트2</movieNm>,\n",
              " <movieNm>웡카</movieNm>,\n",
              " <movieNm>가여운 것들</movieNm>,\n",
              " <movieNm>브레드이발소: 셀럽 인 베이커리타운</movieNm>,\n",
              " <movieNm>패스트 라이브즈</movieNm>,\n",
              " <movieNm>랜드 오브 배드</movieNm>,\n",
              " <movieNm>용감한 돌고래 벨루와 바닷속 친구들</movieNm>,\n",
              " <movieNm>밥 말리: 원 러브</movieNm>,\n",
              " <movieNm>건국전쟁</movieNm>]"
            ]
          },
          "metadata": {},
          "execution_count": 3
        }
      ]
    },
    {
      "cell_type": "code",
      "source": [
        "soup.find_all('audiCnt')"
      ],
      "metadata": {
        "colab": {
          "base_uri": "https://localhost:8080/"
        },
        "id": "qeet3G4wP9dr",
        "outputId": "57f28b53-9fd7-477a-8a12-30ab3549034b"
      },
      "execution_count": 4,
      "outputs": [
        {
          "output_type": "execute_result",
          "data": {
            "text/plain": [
              "[<audiCnt>344880</audiCnt>,\n",
              " <audiCnt>81813</audiCnt>,\n",
              " <audiCnt>21154</audiCnt>,\n",
              " <audiCnt>9410</audiCnt>,\n",
              " <audiCnt>9336</audiCnt>,\n",
              " <audiCnt>6360</audiCnt>,\n",
              " <audiCnt>6106</audiCnt>,\n",
              " <audiCnt>4142</audiCnt>,\n",
              " <audiCnt>4080</audiCnt>,\n",
              " <audiCnt>3812</audiCnt>]"
            ]
          },
          "metadata": {},
          "execution_count": 4
        }
      ]
    }
  ]
}